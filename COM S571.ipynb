{
 "cells": [
  {
   "cell_type": "markdown",
   "metadata": {},
   "source": [
    "# NER Wikidata"
   ]
  },
  {
   "cell_type": "markdown",
   "metadata": {},
   "source": [
    "## Set up"
   ]
  },
  {
   "cell_type": "code",
   "execution_count": 1,
   "metadata": {},
   "outputs": [],
   "source": [
    "import pandas as pd\n",
    "import urllib.request\n",
    "import re \n",
    "import json"
   ]
  },
  {
   "cell_type": "code",
   "execution_count": 2,
   "metadata": {},
   "outputs": [],
   "source": [
    "df = pd.read_csv(\"/Users/yangyuting/Library/Mobile Documents/com~apple~CloudDocs/01PhD/02ISU/04Classes/2022Fall/COM S 579X NLP/Project/wikidata-qrank.csv\")"
   ]
  },
  {
   "cell_type": "markdown",
   "metadata": {},
   "source": [
    "## 1. Retrieve entity names"
   ]
  },
  {
   "cell_type": "markdown",
   "metadata": {},
   "source": [
    "### 1.1 Decode into bytes"
   ]
  },
  {
   "cell_type": "code",
   "execution_count": 29,
   "metadata": {},
   "outputs": [],
   "source": [
    "df1 = df[:1000]"
   ]
  },
  {
   "cell_type": "code",
   "execution_count": null,
   "metadata": {},
   "outputs": [],
   "source": [
    "df1 = df[:1000]\n",
    "list1 = df1.Entity.to_list()\n",
    "Name = []\n",
    "for i, entity in enumerate(list1):\n",
    "    print('Entity', i)\n",
    "    response = urllib.request.urlopen('https://www.wikidata.org/w/api.php?action=wbgetentities&props=labels&ids='+entity+'&languages=en&format=json')\n",
    "    value = response.read().decode()\n",
    "    try:\n",
    "        value = value.split('\"value\":\"')[1].split('\"}}}}')[0]\n",
    "        Name.append(value)\n",
    "    except:\n",
    "        Name.append('NA')\n",
    "df1.insert(1, column = 'Name', value = Name)\n",
    "del i, entity, Name, list1"
   ]
  },
  {
   "cell_type": "code",
   "execution_count": 8,
   "metadata": {},
   "outputs": [
    {
     "data": {
      "text/html": [
       "<div>\n",
       "<style scoped>\n",
       "    .dataframe tbody tr th:only-of-type {\n",
       "        vertical-align: middle;\n",
       "    }\n",
       "\n",
       "    .dataframe tbody tr th {\n",
       "        vertical-align: top;\n",
       "    }\n",
       "\n",
       "    .dataframe thead th {\n",
       "        text-align: right;\n",
       "    }\n",
       "</style>\n",
       "<table border=\"1\" class=\"dataframe\">\n",
       "  <thead>\n",
       "    <tr style=\"text-align: right;\">\n",
       "      <th></th>\n",
       "      <th>Entity</th>\n",
       "      <th>Name</th>\n",
       "      <th>QRank</th>\n",
       "    </tr>\n",
       "  </thead>\n",
       "  <tbody>\n",
       "    <tr>\n",
       "      <th>18</th>\n",
       "      <td>Q110918355</td>\n",
       "      <td>NA</td>\n",
       "      <td>34741612</td>\n",
       "    </tr>\n",
       "  </tbody>\n",
       "</table>\n",
       "</div>"
      ],
      "text/plain": [
       "        Entity Name     QRank\n",
       "18  Q110918355   NA  34741612"
      ]
     },
     "execution_count": 8,
     "metadata": {},
     "output_type": "execute_result"
    }
   ],
   "source": [
    "df1.query('Name == \"NA\"')"
   ]
  },
  {
   "cell_type": "code",
   "execution_count": 6,
   "metadata": {},
   "outputs": [
    {
     "name": "stdout",
     "output_type": "stream",
     "text": [
      "{\"entities\":{\"Q1107\":{\"type\":\"item\",\"id\":\"Q1107\",\"labels\":{\"en\":{\"language\":\"en\",\"value\":\"anime\"}}}},\"success\":1}\n"
     ]
    }
   ],
   "source": [
    "\n",
    "response = urllib.request.urlopen('https://www.wikidata.org/w/api.php?action=wbgetentities&props=labels&ids=Q1107&languages=en&format=json')\n",
    "value = response.read().decode()\n",
    "print(value)\n",
    "# value = value.split('\"value\":\"')[1].split('\"}}}}')[0]\n",
    "# Name.append(value)"
   ]
  },
  {
   "cell_type": "code",
   "execution_count": 5,
   "metadata": {},
   "outputs": [
    {
     "data": {
      "text/plain": [
       "'Q1107'"
      ]
     },
     "execution_count": 5,
     "metadata": {},
     "output_type": "execute_result"
    }
   ],
   "source": [
    "list1 = df1.Entity.to_list()\n",
    "list1[999]"
   ]
  },
  {
   "cell_type": "markdown",
   "metadata": {},
   "source": [
    "### 1.2 Decode into dictionary"
   ]
  },
  {
   "cell_type": "code",
   "execution_count": null,
   "metadata": {},
   "outputs": [],
   "source": [
    "def top_N_NEs(input_csv_ranking_file_path: str, output_csv_file_path: str, top_N: int = 10):\n",
    "    df = pd.read_csv(input_csv_ranking_file_path)\n",
    "    df2 = df[:top_N]\n",
    "    list2 = df2.Entity.to_list()\n",
    "    Name = []\n",
    "    for i, entity in enumerate(list2):\n",
    "        print('Entity', i)\n",
    "        response = urllib.request.urlopen('https://www.wikidata.org/w/api.php?action=wbgetentities&props=labels&ids='+entity+'&languages=en&format=json')\n",
    "        value = response.read().decode('utf-8')\n",
    "        value = json.loads(value)\n",
    "        print(type(entity))\n",
    "        try:\n",
    "            value = value['entities'][entity]['labels']['en']['value']\n",
    "            # value = value['entities'][f'{entity}]['labels']['en']['value']\n",
    "            Name.append(value)\n",
    "        except:\n",
    "            Name.append('NA')\n",
    "    df2.insert(1, column = 'Name', value = Name)\n",
    "    df2.to_csv(output_csv_file_path)\n",
    "    del i, entity, Name, list2\n",
    "\n",
    "top_N_NEs(\"/Users/yangyuting/Library/Mobile Documents/com~apple~CloudDocs/01PhD/02ISU/04Classes/2022Fall/COM S 579X NLP/Project/wikidata-qrank.csv\",\n",
    "          \"/Users/yangyuting/Library/Mobile Documents/com~apple~CloudDocs/01PhD/02ISU/04Classes/2022Fall/COM S 579X NLP/Project/wikidata-qrank_top10.csv\")"
   ]
  },
  {
   "cell_type": "code",
   "execution_count": 23,
   "metadata": {},
   "outputs": [
    {
     "name": "stdout",
     "output_type": "stream",
     "text": [
      "{'entities': {'Q317521': {'type': 'item', 'id': 'Q317521', 'labels': {'en': {'language': 'en', 'value': 'Elon Musk'}}}}, 'success': 1}\n"
     ]
    },
    {
     "data": {
      "text/plain": [
       "'Elon Musk'"
      ]
     },
     "execution_count": 23,
     "metadata": {},
     "output_type": "execute_result"
    }
   ],
   "source": [
    "\"Q317521\" \"Q1107\"\n",
    "response = urllib.request.urlopen('https://www.wikidata.org/w/api.php?action=wbgetentities&props=labels&ids=Q317521&languages=en&format=json')\n",
    "value = response.read()\n",
    "value = json.loads(value.decode('utf-8'))\n",
    "print(value)\n",
    "value['entities']['Q317521']['labels']['en']['value']"
   ]
  },
  {
   "cell_type": "markdown",
   "metadata": {},
   "source": [
    "## 2. 2nd two weeks"
   ]
  },
  {
   "cell_type": "markdown",
   "metadata": {},
   "source": [
    "##### Goal 0: Expand top_n_NEs above to return the top-N NEs as a list of strings"
   ]
  },
  {
   "cell_type": "code",
   "execution_count": null,
   "metadata": {},
   "outputs": [],
   "source": [
    "def top_N_NEs(input_csv_ranking_file_path: str, top_N: int = 10):\n",
    "    df = pd.read_csv(input_csv_ranking_file_path)\n",
    "    df2 = df[:top_N]\n",
    "    list2 = df2.Entity.to_list()\n",
    "    Name = []\n",
    "    for i, entity in enumerate(list2):\n",
    "        print('Entity', i)\n",
    "        response = urllib.request.urlopen('https://www.wikidata.org/w/api.php?action=wbgetentities&props=labels&ids='+entity+'&languages=en&format=json')\n",
    "        value = response.read().decode('utf-8')\n",
    "        value = json.loads(value)\n",
    "        print(type(entity))\n",
    "        try:\n",
    "            value = value['entities'][entity]['labels']['en']['value']\n",
    "            # value = value['entities'][f'{entity}]['labels']['en']['value']\n",
    "            Name.append(value)\n",
    "        except:\n",
    "            Name.append('NA')\n",
    "    return Name\n",
    "    del i, entity, Name, list2\n",
    "\n",
    "list1 = top_N_NEs(\"/Users/yangyuting/Library/Mobile Documents/com~apple~CloudDocs/01PhD/02ISU/04Classes/2022Fall/COM S 579X NLP/Project/wikidata-qrank.csv\")"
   ]
  },
  {
   "cell_type": "markdown",
   "metadata": {},
   "source": [
    "##### Goal 1: Understand how to evaluate an NER model/method based on the papers you read in Goal 2 for the first two weeks. "
   ]
  },
  {
   "cell_type": "markdown",
   "metadata": {},
   "source": [
    "SOTA performance: F1 score, precision, and recall"
   ]
  },
  {
   "cell_type": "markdown",
   "metadata": {},
   "source": [
    "### Goal 2: Develop a Python function that takes a sentence as input and returns a NER tag sequence"
   ]
  },
  {
   "cell_type": "markdown",
   "metadata": {},
   "source": [
    "(in an appropriate tagging schemes, such as BIO), using simple string match pseudocode below. One thing you need to think is how to match overlapping NEs, e.g., “iowa” vs. “iowa state university”. One easy heurstics is to always match the longest one.\n",
    "\n",
    "[Named Entity Recognition Tagging](https://cs230.stanford.edu/blog/namedentity/)  \n",
    "[NER model evaluation](https://towardsdatascience.com/entity-level-evaluation-for-ner-task-c21fb3a8edf)"
   ]
  },
  {
   "cell_type": "code",
   "execution_count": null,
   "metadata": {},
   "outputs": [],
   "source": [
    "import re\n",
    "sen = \"I joined the Ph.D. program of Ivy College of Business at Iowa State University in Ames.\"\n",
    "NE_list = ['Iowa State University', 'Ivy College of Business', 'College of Business','Iowa', 'Ames']\n",
    "\n",
    "def brutal_force_ENR(sentence:str, NE_list: list[str], scheme='BIO'):\n",
    "    sen_list = sen.split()\n",
    "    print(sen_list)\n",
    "    return_list = ['O']*len(sen_list)\n",
    "    print('\\nThe list to be revised: \\n',return_list)\n",
    "    \n",
    "    pos_list = []\n",
    "    for ne in NE_list:\n",
    "        position = sentence.find(ne)\n",
    "        print(ne, position)\n",
    "        l = len(ne.split())\n",
    "        pos_list.append([l, position])\n",
    "    print('\\n The number of tokens in the entity, the starting position of the entity:\\n', pos_list)\n",
    "    \n",
    "    str_len = 0\n",
    "    id_list = []\n",
    "    for id, token in enumerate(sen_list):\n",
    "        str_len += len(token) + 1\n",
    "        for l, pos in pos_list:\n",
    "            if str_len == pos:\n",
    "                id_list.append([id+1, l])\n",
    "    print('\\nThe position in the return_list, the number of tokens to be revised\\n',id_list)\n",
    "    \n",
    "    for id, length in id_list:\n",
    "        return_list[id] = 'B'\n",
    "        while length > 1:\n",
    "            return_list[id+1] = 'I'\n",
    "            length -= 1\n",
    "            id += 1\n",
    "    print('\\n Output: \\n', sen_list, '\\n', return_list)\n",
    "    return return_list\n",
    "brutal_force_ENR(sen, NE_list)\n",
    "\n",
    "\n",
    "# from seqeval.metrics import accuracy_score\n",
    "# from seqeval.metrics import f1_score\n",
    "from seqeval.metrics import classification_report\n",
    "def a_judge_function(predicted_tag_seq: list[list], ground_truth_tag_seq: list[list]):\n",
    "    return classification_report([ground_truth_tag_seq], [predicted_tag_seq])\n",
    "    \n"
   ]
  },
  {
   "cell_type": "code",
   "execution_count": null,
   "metadata": {},
   "outputs": [],
   "source": [
    "a_judge_function(['B','I',\"O\"], ['B','O', \"O\"])"
   ]
  },
  {
   "cell_type": "markdown",
   "metadata": {},
   "source": [
    "### Goal 3"
   ]
  },
  {
   "cell_type": "code",
   "execution_count": 61,
   "metadata": {},
   "outputs": [
    {
     "name": "stdout",
     "output_type": "stream",
     "text": [
      "I joined the Ph.D. program of Ivy College of Business at Iowa State University in Ames. ['O', 'O', 'O', 'O', 'O', 'O', 'B', 'I', 'I', 'I', 'O', 'B', 'I', 'I', 'O', 'B']\n",
      "['I', 'joined', 'the', 'Ph.D.', 'program', 'of', 'Ivy', 'College', 'of', 'Business', 'at', 'Iowa', 'State', 'University', 'in', 'Ames.']\n",
      "\n",
      "The list to be revised: \n",
      " ['O', 'O', 'O', 'O', 'O', 'O', 'O', 'O', 'O', 'O', 'O', 'O', 'O', 'O', 'O', 'O']\n",
      "Iowa State University 57\n",
      "Ivy College of Business 30\n",
      "Iowa 57\n",
      "Ivy 30\n",
      "Ames 82\n",
      "\n",
      " The number of tokens in the entity, the starting position of the entity:\n",
      " [[3, 57], [4, 30], [1, 57], [1, 30], [1, 82]]\n",
      "\n",
      "The position in the return_list, the number of tokens to be revised\n",
      " [[6, 4], [6, 1], [11, 3], [11, 1], [15, 1]]\n",
      "\n",
      " Output: \n",
      " ['I', 'joined', 'the', 'Ph.D.', 'program', 'of', 'Ivy', 'College', 'of', 'Business', 'at', 'Iowa', 'State', 'University', 'in', 'Ames.'] \n",
      " ['O', 'O', 'O', 'O', 'O', 'O', 'B', 'I', 'I', 'I', 'O', 'B', 'I', 'I', 'O', 'B']\n",
      "['O', 'O', 'O', 'O', 'O', 'O', 'B', 'I', 'I', 'I', 'O', 'B', 'I', 'I', 'O', 'B'] ['O', 'O', 'O', 'O', 'O', 'O', 'B', 'I', 'I', 'I', 'O', 'B', 'I', 'I', 'O', 'B']\n"
     ]
    },
    {
     "data": {
      "text/plain": [
       "('              precision    recall  f1-score   support\\n\\n           _       1.00      1.00      1.00         3\\n\\n   micro avg       1.00      1.00      1.00         3\\n   macro avg       1.00      1.00      1.00         3\\nweighted avg       1.00      1.00      1.00         3\\n',\n",
       " 1)"
      ]
     },
     "execution_count": 61,
     "metadata": {},
     "output_type": "execute_result"
    }
   ],
   "source": [
    "def test_on_CONLL(sentences: list[str], ground_truth_tag_sequences: list[str], NE_list: list[str], scheme=\"BIO\"):\n",
    "    for (sentence, ground_truth_tag_seq) in zip(sentences, ground_truth_tag_sequences):\n",
    "        print(sentence, ground_truth_tag_seq)\n",
    "        tag_seq = brutal_force_ENR(sentence, NE_list, scheme = scheme)\n",
    "        print(ground_truth_tag_seq, tag_seq)\n",
    "        performance_matrix = a_judge_function(ground_truth_tag_seq, tag_seq)\n",
    "    # return len(sentences)\n",
    "    return performance_matrix, len(sentences)\n",
    "\n",
    "sen = \"I joined the Ph.D. program of Ivy College of Business at Iowa State University in Ames.\"\n",
    "NE_list = ['Iowa State University', 'Ivy College of Business', 'Iowa', 'Ivy', 'Ames']\n",
    "true_list = ['O', 'O', 'O', 'O', 'O', 'O', 'B', 'I', 'I', 'I', 'O', 'B', 'I', 'I', 'O', 'B']\n",
    "test_on_CONLL([sen], [true_list], NE_list) "
   ]
  },
  {
   "cell_type": "code",
   "execution_count": null,
   "metadata": {},
   "outputs": [],
   "source": [
    "classification_report([['O', 'O', 'O', 'O', 'O', 'O', 'B', 'I', 'I', 'I', 'O', 'B', 'I', 'I', 'O', 'O']], [['O', 'O', 'O', 'O', 'O', 'O', 'B', 'I', 'I', 'I', 'O', 'B', 'I', 'I', 'O', 'B']])"
   ]
  }
 ],
 "metadata": {
  "kernelspec": {
   "display_name": "Python 3.10.5 64-bit",
   "language": "python",
   "name": "python3"
  },
  "language_info": {
   "codemirror_mode": {
    "name": "ipython",
    "version": 3
   },
   "file_extension": ".py",
   "mimetype": "text/x-python",
   "name": "python",
   "nbconvert_exporter": "python",
   "pygments_lexer": "ipython3",
   "version": "3.10.5"
  },
  "orig_nbformat": 4,
  "vscode": {
   "interpreter": {
    "hash": "aee8b7b246df8f9039afb4144a1f6fd8d2ca17a180786b69acc140d282b71a49"
   }
  }
 },
 "nbformat": 4,
 "nbformat_minor": 2
}
